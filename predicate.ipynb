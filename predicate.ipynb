{
 "cells": [
  {
   "cell_type": "markdown",
   "metadata": {},
   "source": [
    "Objective : Return aggregated result with an ML prediction using BQ ML"
   ]
  },
  {
   "cell_type": "code",
   "execution_count": 1,
   "metadata": {},
   "outputs": [],
   "source": [
    "###\n",
    "## helpful resource corner\n",
    "##\n",
    "\n",
    "# https://cloud.google.com/bigquery/docs/reference/standard-sql/aggregate_functions"
   ]
  },
  {
   "cell_type": "code",
   "execution_count": 2,
   "metadata": {},
   "outputs": [],
   "source": [
    "import os\n",
    "import json\n",
    "\n",
    "from google.cloud import bigquery\n",
    "from google.cloud import storage\n",
    "\n",
    "from botocore.exceptions import ClientError"
   ]
  },
  {
   "cell_type": "code",
   "execution_count": 3,
   "metadata": {},
   "outputs": [],
   "source": [
    "home = os.path.expanduser('~')\n",
    "os.environ[\"GOOGLE_APPLICATION_CREDENTIALS\"]=f\"{home}/.config/gcloud/alpine-beacon-336222-c6a1c087e3ef.json\""
   ]
  },
  {
   "cell_type": "code",
   "execution_count": 4,
   "metadata": {},
   "outputs": [
    {
     "name": "stdout",
     "output_type": "stream",
     "text": [
      "alpine-beacon-336222.music\n"
     ]
    }
   ],
   "source": [
    "client = bigquery.Client()\n",
    "project = client.project\n",
    "dataset_id = \"{}.music\".format(project)\n",
    "dataset = bigquery.Dataset(dataset_id)\n",
    "print(dataset_id)"
   ]
  },
  {
   "cell_type": "code",
   "execution_count": 5,
   "metadata": {},
   "outputs": [
    {
     "name": "stdout",
     "output_type": "stream",
     "text": [
      "Tables contained in 'alpine-beacon-336222.music':\n",
      "alpine-beacon-336222.music.slices\n"
     ]
    }
   ],
   "source": [
    "tables = client.list_tables(dataset_id)  # Make an API request.\n",
    "\n",
    "print(\"Tables contained in '{}':\".format(dataset_id))\n",
    "for table in tables:\n",
    "#    if table.table_id == \"slices\": \n",
    "        fqn = \"{}.{}.{}\".format(table.project, table.dataset_id, table.table_id)\n",
    "        print(fqn)"
   ]
  },
  {
   "cell_type": "code",
   "execution_count": 6,
   "metadata": {},
   "outputs": [
    {
     "name": "stdout",
     "output_type": "stream",
     "text": [
      "Row(([{'generated_on': '2017-12-0308:41:42.057563', 'slice': '54000-54999', 'version': 'v1'}],), {'INFO': 0})\n",
      "Row(([{'generated_on': '2017-12-0308:41:42.057563', 'slice': '54000-54999', 'version': 'v1'}],), {'INFO': 0})\n",
      "Row(([{'generated_on': '2017-12-0308:41:42.057563', 'slice': '54000-54999', 'version': 'v1'}],), {'INFO': 0})\n",
      "Row(([{'generated_on': '2017-12-0308:41:42.057563', 'slice': '54000-54999', 'version': 'v1'}],), {'INFO': 0})\n",
      "Row(([{'generated_on': '2017-12-0308:41:42.057563', 'slice': '54000-54999', 'version': 'v1'}],), {'INFO': 0})\n",
      "Row(([{'generated_on': '2017-12-0308:41:42.057563', 'slice': '54000-54999', 'version': 'v1'}],), {'INFO': 0})\n"
     ]
    }
   ],
   "source": [
    "qry = f\"SELECT INFO FROM {fqn}\"\n",
    "query_job = client.query(qry)\n",
    "results = query_job.result()\n",
    "for row in results:\n",
    "    print(row)"
   ]
  },
  {
   "cell_type": "code",
   "execution_count": 7,
   "metadata": {},
   "outputs": [],
   "source": [
    "# this is kinda cringe but it works and I don't have chatty sql swimming around\n",
    "with open(\"sql/dml/count_artists.sql\", \"r\") as the_file:\n",
    "    the_qRy = \"\"\n",
    "    while True:\n",
    "        line = the_file.readline()\n",
    "        if line == \"\":\n",
    "            break\n",
    "        else:\n",
    "            the_qRy = the_qRy + \" \" + line"
   ]
  },
  {
   "cell_type": "code",
   "execution_count": 8,
   "metadata": {},
   "outputs": [],
   "source": [
    "query_job3 = client.query(the_qRy)\n",
    "results3 = query_job3.result()\n",
    "df = results3.to_dataframe()\n",
    "df.rename(columns={\"f0_\":\"count\"}, inplace = True)"
   ]
  },
  {
   "cell_type": "code",
   "execution_count": 9,
   "metadata": {},
   "outputs": [],
   "source": [
    "#idx = 0\n",
    "#for result in results3:\n",
    "#    idx += 1\n",
    "#    print(result)\n",
    "#    if idx > 5:\n",
    "#        break"
   ]
  },
  {
   "cell_type": "code",
   "execution_count": 10,
   "metadata": {},
   "outputs": [
    {
     "data": {
      "text/html": [
       "<div>\n",
       "<style scoped>\n",
       "    .dataframe tbody tr th:only-of-type {\n",
       "        vertical-align: middle;\n",
       "    }\n",
       "\n",
       "    .dataframe tbody tr th {\n",
       "        vertical-align: top;\n",
       "    }\n",
       "\n",
       "    .dataframe thead th {\n",
       "        text-align: right;\n",
       "    }\n",
       "</style>\n",
       "<table border=\"1\" class=\"dataframe\">\n",
       "  <thead>\n",
       "    <tr style=\"text-align: right;\">\n",
       "      <th></th>\n",
       "      <th>count</th>\n",
       "      <th>ARTIST_NAME</th>\n",
       "    </tr>\n",
       "  </thead>\n",
       "  <tbody>\n",
       "    <tr>\n",
       "      <th>0</th>\n",
       "      <td>4200</td>\n",
       "      <td>Drake</td>\n",
       "    </tr>\n",
       "    <tr>\n",
       "      <th>1</th>\n",
       "      <td>2382</td>\n",
       "      <td>LilWayne</td>\n",
       "    </tr>\n",
       "    <tr>\n",
       "      <th>2</th>\n",
       "      <td>2172</td>\n",
       "      <td>KanyeWest</td>\n",
       "    </tr>\n",
       "    <tr>\n",
       "      <th>3</th>\n",
       "      <td>1986</td>\n",
       "      <td>KendrickLamar</td>\n",
       "    </tr>\n",
       "    <tr>\n",
       "      <th>4</th>\n",
       "      <td>1884</td>\n",
       "      <td>Rihanna</td>\n",
       "    </tr>\n",
       "    <tr>\n",
       "      <th>5</th>\n",
       "      <td>1680</td>\n",
       "      <td>TheRollingStones</td>\n",
       "    </tr>\n",
       "    <tr>\n",
       "      <th>6</th>\n",
       "      <td>1614</td>\n",
       "      <td>Shakira</td>\n",
       "    </tr>\n",
       "    <tr>\n",
       "      <th>7</th>\n",
       "      <td>1608</td>\n",
       "      <td>FloridaGeorgiaLine</td>\n",
       "    </tr>\n",
       "    <tr>\n",
       "      <th>8</th>\n",
       "      <td>1608</td>\n",
       "      <td>LukeBryan</td>\n",
       "    </tr>\n",
       "    <tr>\n",
       "      <th>9</th>\n",
       "      <td>1566</td>\n",
       "      <td>Pitbull</td>\n",
       "    </tr>\n",
       "  </tbody>\n",
       "</table>\n",
       "</div>"
      ],
      "text/plain": [
       "   count         ARTIST_NAME\n",
       "0   4200               Drake\n",
       "1   2382            LilWayne\n",
       "2   2172           KanyeWest\n",
       "3   1986       KendrickLamar\n",
       "4   1884             Rihanna\n",
       "5   1680    TheRollingStones\n",
       "6   1614             Shakira\n",
       "7   1608  FloridaGeorgiaLine\n",
       "8   1608           LukeBryan\n",
       "9   1566             Pitbull"
      ]
     },
     "execution_count": 10,
     "metadata": {},
     "output_type": "execute_result"
    }
   ],
   "source": [
    "df.head(10)"
   ]
  },
  {
   "cell_type": "code",
   "execution_count": 11,
   "metadata": {},
   "outputs": [
    {
     "data": {
      "text/html": [
       "<div>\n",
       "<style scoped>\n",
       "    .dataframe tbody tr th:only-of-type {\n",
       "        vertical-align: middle;\n",
       "    }\n",
       "\n",
       "    .dataframe tbody tr th {\n",
       "        vertical-align: top;\n",
       "    }\n",
       "\n",
       "    .dataframe thead th {\n",
       "        text-align: right;\n",
       "    }\n",
       "</style>\n",
       "<table border=\"1\" class=\"dataframe\">\n",
       "  <thead>\n",
       "    <tr style=\"text-align: right;\">\n",
       "      <th></th>\n",
       "      <th>count</th>\n",
       "      <th>ARTIST_NAME</th>\n",
       "    </tr>\n",
       "  </thead>\n",
       "  <tbody>\n",
       "    <tr>\n",
       "      <th>9322</th>\n",
       "      <td>6</td>\n",
       "      <td>CorrinneMay</td>\n",
       "    </tr>\n",
       "    <tr>\n",
       "      <th>9323</th>\n",
       "      <td>6</td>\n",
       "      <td>HallanHashim</td>\n",
       "    </tr>\n",
       "    <tr>\n",
       "      <th>9324</th>\n",
       "      <td>6</td>\n",
       "      <td>G.E.M.</td>\n",
       "    </tr>\n",
       "    <tr>\n",
       "      <th>9325</th>\n",
       "      <td>6</td>\n",
       "      <td>SteveHoly</td>\n",
       "    </tr>\n",
       "    <tr>\n",
       "      <th>9326</th>\n",
       "      <td>6</td>\n",
       "      <td>KentBlazy&amp;GarthBrooks</td>\n",
       "    </tr>\n",
       "    <tr>\n",
       "      <th>9327</th>\n",
       "      <td>6</td>\n",
       "      <td>NewSpringWorship</td>\n",
       "    </tr>\n",
       "    <tr>\n",
       "      <th>9328</th>\n",
       "      <td>6</td>\n",
       "      <td>DavidZowie</td>\n",
       "    </tr>\n",
       "    <tr>\n",
       "      <th>9329</th>\n",
       "      <td>6</td>\n",
       "      <td>Lane8</td>\n",
       "    </tr>\n",
       "    <tr>\n",
       "      <th>9330</th>\n",
       "      <td>6</td>\n",
       "      <td>LeYouth</td>\n",
       "    </tr>\n",
       "    <tr>\n",
       "      <th>9331</th>\n",
       "      <td>6</td>\n",
       "      <td>AmineEdge&amp;DANCE</td>\n",
       "    </tr>\n",
       "  </tbody>\n",
       "</table>\n",
       "</div>"
      ],
      "text/plain": [
       "      count            ARTIST_NAME\n",
       "9322      6            CorrinneMay\n",
       "9323      6           HallanHashim\n",
       "9324      6                 G.E.M.\n",
       "9325      6              SteveHoly\n",
       "9326      6  KentBlazy&GarthBrooks\n",
       "9327      6       NewSpringWorship\n",
       "9328      6             DavidZowie\n",
       "9329      6                  Lane8\n",
       "9330      6                LeYouth\n",
       "9331      6        AmineEdge&DANCE"
      ]
     },
     "execution_count": 11,
     "metadata": {},
     "output_type": "execute_result"
    }
   ],
   "source": [
    "df.tail(10)"
   ]
  },
  {
   "cell_type": "code",
   "execution_count": 12,
   "metadata": {},
   "outputs": [
    {
     "name": "stdout",
     "output_type": "stream",
     "text": [
      " CREATE OR REPLACE MODEL `music.psn_prdn_model`\n",
      " OPTIONS\n",
      "   (model_type='linear_reg',\n",
      "   input_label_cols=['pos']) AS\n",
      " SELECT \n",
      "     collaborative,\n",
      "     TRK.pos,\n",
      "     TRK.artist_name,\n",
      "     TRK.track_name,\n",
      "     TRK.duration_ms,\n",
      "     TRK.album_name\n",
      " FROM (\n",
      " SELECT *\n",
      "     FROM `alpine-beacon-336222.music.slices`,\n",
      "     UNNEST(playlists) AS PLST\n",
      "     ), UNNEST(tracks) as TRK;\n"
     ]
    }
   ],
   "source": [
    "with open(\"sql/models/psn_prdn_model.sql\", \"r\") as the_file:\n",
    "    model_qRy = \"\"\n",
    "    while True:\n",
    "        line = the_file.readline()\n",
    "        if line == \"\":\n",
    "            break\n",
    "        else:\n",
    "            model_qRy = model_qRy + \" \" + line\n",
    "\n",
    "print(model_qRy)"
   ]
  },
  {
   "cell_type": "code",
   "execution_count": 13,
   "metadata": {},
   "outputs": [
    {
     "name": "stdout",
     "output_type": "stream",
     "text": [
      "CPU times: user 32.8 ms, sys: 8.19 ms, total: 41 ms\n",
      "Wall time: 1min 12s\n"
     ]
    }
   ],
   "source": [
    "%%time\n",
    "model_query_job = client.query(model_qRy)\n",
    "model_results = model_query_job.result()"
   ]
  }
 ],
 "metadata": {
  "kernelspec": {
   "display_name": "Python 3",
   "language": "python",
   "name": "python3"
  },
  "language_info": {
   "codemirror_mode": {
    "name": "ipython",
    "version": 3
   },
   "file_extension": ".py",
   "mimetype": "text/x-python",
   "name": "python",
   "nbconvert_exporter": "python",
   "pygments_lexer": "ipython3",
   "version": "3.7.4"
  }
 },
 "nbformat": 4,
 "nbformat_minor": 2
}
